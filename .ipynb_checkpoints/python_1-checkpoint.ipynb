{
 "metadata": {
  "name": "",
  "signature": "sha256:7b2f47b02d8440516d6506bcafef615595f1ce09148dd7fa249feb3d8cb48698"
 },
 "nbformat": 3,
 "nbformat_minor": 0,
 "worksheets": [
  {
   "cells": [
    {
     "cell_type": "code",
     "collapsed": false,
     "input": [
      "pwd"
     ],
     "language": "python",
     "metadata": {},
     "outputs": [
      {
       "metadata": {},
       "output_type": "pyout",
       "prompt_number": 2,
       "text": [
        "u'/Users/leigh/Documents/repos/2014-UofM-files'"
       ]
      }
     ],
     "prompt_number": 2
    },
    {
     "cell_type": "code",
     "collapsed": false,
     "input": [
      "ls"
     ],
     "language": "python",
     "metadata": {},
     "outputs": [
      {
       "output_type": "stream",
       "stream": "stdout",
       "text": [
        "inflammation-01.csv  inflammation-06.csv  inflammation-11.csv\r\n",
        "inflammation-02.csv  inflammation-07.csv  inflammation-12.csv\r\n",
        "inflammation-03.csv  inflammation-08.csv  python_1.ipynb\r\n",
        "inflammation-04.csv  inflammation-09.csv\r\n",
        "inflammation-05.csv  inflammation-10.csv\r\n"
       ]
      }
     ],
     "prompt_number": 3
    },
    {
     "cell_type": "code",
     "collapsed": false,
     "input": [
      "cd .."
     ],
     "language": "python",
     "metadata": {},
     "outputs": [
      {
       "output_type": "stream",
       "stream": "stdout",
       "text": [
        "/Users/leigh/Documents/repos\n"
       ]
      }
     ],
     "prompt_number": 4
    },
    {
     "cell_type": "code",
     "collapsed": false,
     "input": [
      "cd 2014-UofM-files/"
     ],
     "language": "python",
     "metadata": {},
     "outputs": [
      {
       "output_type": "stream",
       "stream": "stdout",
       "text": [
        "/Users/leigh/Documents/repos/2014-UofM-files\n"
       ]
      }
     ],
     "prompt_number": 5
    },
    {
     "cell_type": "code",
     "collapsed": false,
     "input": [
      "ls"
     ],
     "language": "python",
     "metadata": {},
     "outputs": [
      {
       "output_type": "stream",
       "stream": "stdout",
       "text": [
        "inflammation-01.csv  inflammation-06.csv  inflammation-11.csv\r\n",
        "inflammation-02.csv  inflammation-07.csv  inflammation-12.csv\r\n",
        "inflammation-03.csv  inflammation-08.csv  python_1.ipynb\r\n",
        "inflammation-04.csv  inflammation-09.csv\r\n",
        "inflammation-05.csv  inflammation-10.csv\r\n"
       ]
      }
     ],
     "prompt_number": 6
    },
    {
     "cell_type": "code",
     "collapsed": false,
     "input": [
      "import numpy"
     ],
     "language": "python",
     "metadata": {},
     "outputs": [],
     "prompt_number": 7
    },
    {
     "cell_type": "code",
     "collapsed": false,
     "input": [
      "numpy.loadtxt(fname='inflammation-01.csv', delimiter=',')"
     ],
     "language": "python",
     "metadata": {},
     "outputs": [
      {
       "metadata": {},
       "output_type": "pyout",
       "prompt_number": 8,
       "text": [
        "array([[ 0.,  0.,  1., ...,  3.,  0.,  0.],\n",
        "       [ 0.,  1.,  2., ...,  1.,  0.,  1.],\n",
        "       [ 0.,  1.,  1., ...,  2.,  1.,  1.],\n",
        "       ..., \n",
        "       [ 0.,  1.,  1., ...,  1.,  1.,  1.],\n",
        "       [ 0.,  0.,  0., ...,  0.,  2.,  0.],\n",
        "       [ 0.,  0.,  1., ...,  1.,  1.,  0.]])"
       ]
      }
     ],
     "prompt_number": 8
    },
    {
     "cell_type": "code",
     "collapsed": false,
     "input": [
      "weight_kg = 55"
     ],
     "language": "python",
     "metadata": {},
     "outputs": [],
     "prompt_number": 10
    },
    {
     "cell_type": "code",
     "collapsed": false,
     "input": [
      "print weight_kg"
     ],
     "language": "python",
     "metadata": {},
     "outputs": [
      {
       "output_type": "stream",
       "stream": "stdout",
       "text": [
        "55\n"
       ]
      }
     ],
     "prompt_number": 11
    },
    {
     "cell_type": "code",
     "collapsed": false,
     "input": [
      "print 'weight in pounds: ', 2.2 *weight_kg"
     ],
     "language": "python",
     "metadata": {},
     "outputs": [
      {
       "output_type": "stream",
       "stream": "stdout",
       "text": [
        "weight in pounds:  121.0\n"
       ]
      }
     ],
     "prompt_number": 12
    },
    {
     "cell_type": "code",
     "collapsed": false,
     "input": [
      "print 'weight in pounds:', 2.2 *weight_kg"
     ],
     "language": "python",
     "metadata": {},
     "outputs": [
      {
       "output_type": "stream",
       "stream": "stdout",
       "text": [
        "weight in pounds: 121.0\n"
       ]
      }
     ],
     "prompt_number": 13
    },
    {
     "cell_type": "code",
     "collapsed": false,
     "input": [
      "weight_lb = 2.2 *weight_kg"
     ],
     "language": "python",
     "metadata": {},
     "outputs": [],
     "prompt_number": 14
    },
    {
     "cell_type": "code",
     "collapsed": false,
     "input": [
      "print 'weight in pounds: ', weight_lb"
     ],
     "language": "python",
     "metadata": {},
     "outputs": [
      {
       "output_type": "stream",
       "stream": "stdout",
       "text": [
        "weight in pounds:  121.0\n"
       ]
      }
     ],
     "prompt_number": 15
    },
    {
     "cell_type": "code",
     "collapsed": false,
     "input": [
      "numpy.loadtxt(fname='inflammation-01.csv', delimiter=',')"
     ],
     "language": "python",
     "metadata": {},
     "outputs": [
      {
       "metadata": {},
       "output_type": "pyout",
       "prompt_number": 16,
       "text": [
        "array([[ 0.,  0.,  1., ...,  3.,  0.,  0.],\n",
        "       [ 0.,  1.,  2., ...,  1.,  0.,  1.],\n",
        "       [ 0.,  1.,  1., ...,  2.,  1.,  1.],\n",
        "       ..., \n",
        "       [ 0.,  1.,  1., ...,  1.,  1.,  1.],\n",
        "       [ 0.,  0.,  0., ...,  0.,  2.,  0.],\n",
        "       [ 0.,  0.,  1., ...,  1.,  1.,  0.]])"
       ]
      }
     ],
     "prompt_number": 16
    },
    {
     "cell_type": "code",
     "collapsed": false,
     "input": [
      "data = numpy.loadtxt(fname='inflammation-01.csv', delimiter=',')"
     ],
     "language": "python",
     "metadata": {},
     "outputs": [],
     "prompt_number": 17
    },
    {
     "cell_type": "code",
     "collapsed": false,
     "input": [
      "print data"
     ],
     "language": "python",
     "metadata": {},
     "outputs": [
      {
       "output_type": "stream",
       "stream": "stdout",
       "text": [
        "[[ 0.  0.  1. ...,  3.  0.  0.]\n",
        " [ 0.  1.  2. ...,  1.  0.  1.]\n",
        " [ 0.  1.  1. ...,  2.  1.  1.]\n",
        " ..., \n",
        " [ 0.  1.  1. ...,  1.  1.  1.]\n",
        " [ 0.  0.  0. ...,  0.  2.  0.]\n",
        " [ 0.  0.  1. ...,  1.  1.  0.]]\n"
       ]
      }
     ],
     "prompt_number": 18
    },
    {
     "cell_type": "code",
     "collapsed": false,
     "input": [
      "mass = 47.5 #double\n",
      "age = 122 #subtract 20"
     ],
     "language": "python",
     "metadata": {},
     "outputs": [],
     "prompt_number": 19
    },
    {
     "cell_type": "code",
     "collapsed": false,
     "input": [
      "mass"
     ],
     "language": "python",
     "metadata": {},
     "outputs": [
      {
       "metadata": {},
       "output_type": "pyout",
       "prompt_number": 20,
       "text": [
        "47.5"
       ]
      }
     ],
     "prompt_number": 20
    },
    {
     "cell_type": "code",
     "collapsed": false,
     "input": [
      "mass = 47.5 *2"
     ],
     "language": "python",
     "metadata": {},
     "outputs": [],
     "prompt_number": 21
    },
    {
     "cell_type": "code",
     "collapsed": false,
     "input": [
      "mass"
     ],
     "language": "python",
     "metadata": {},
     "outputs": [
      {
       "metadata": {},
       "output_type": "pyout",
       "prompt_number": 22,
       "text": [
        "95.0"
       ]
      }
     ],
     "prompt_number": 22
    },
    {
     "cell_type": "code",
     "collapsed": false,
     "input": [
      "mass = mass * 2"
     ],
     "language": "python",
     "metadata": {},
     "outputs": [],
     "prompt_number": 23
    },
    {
     "cell_type": "code",
     "collapsed": false,
     "input": [
      "mass = 47.5"
     ],
     "language": "python",
     "metadata": {},
     "outputs": [],
     "prompt_number": 25
    },
    {
     "cell_type": "code",
     "collapsed": false,
     "input": [
      "print mass\n",
      "mass = mass * 2\n",
      "print mass"
     ],
     "language": "python",
     "metadata": {},
     "outputs": [
      {
       "output_type": "stream",
       "stream": "stdout",
       "text": [
        "47.5\n",
        "95.0\n"
       ]
      }
     ],
     "prompt_number": 26
    },
    {
     "cell_type": "code",
     "collapsed": false,
     "input": [
      "age"
     ],
     "language": "python",
     "metadata": {},
     "outputs": [
      {
       "metadata": {},
       "output_type": "pyout",
       "prompt_number": 27,
       "text": [
        "122"
       ]
      }
     ],
     "prompt_number": 27
    },
    {
     "cell_type": "code",
     "collapsed": false,
     "input": [
      "age = age - 20"
     ],
     "language": "python",
     "metadata": {},
     "outputs": [],
     "prompt_number": 28
    },
    {
     "cell_type": "code",
     "collapsed": false,
     "input": [
      "age"
     ],
     "language": "python",
     "metadata": {},
     "outputs": [
      {
       "metadata": {},
       "output_type": "pyout",
       "prompt_number": 29,
       "text": [
        "102"
       ]
      }
     ],
     "prompt_number": 29
    },
    {
     "cell_type": "code",
     "collapsed": false,
     "input": [
      "data "
     ],
     "language": "python",
     "metadata": {},
     "outputs": [
      {
       "metadata": {},
       "output_type": "pyout",
       "prompt_number": 30,
       "text": [
        "array([[ 0.,  0.,  1., ...,  3.,  0.,  0.],\n",
        "       [ 0.,  1.,  2., ...,  1.,  0.,  1.],\n",
        "       [ 0.,  1.,  1., ...,  2.,  1.,  1.],\n",
        "       ..., \n",
        "       [ 0.,  1.,  1., ...,  1.,  1.,  1.],\n",
        "       [ 0.,  0.,  0., ...,  0.,  2.,  0.],\n",
        "       [ 0.,  0.,  1., ...,  1.,  1.,  0.]])"
       ]
      }
     ],
     "prompt_number": 30
    },
    {
     "cell_type": "code",
     "collapsed": false,
     "input": [
      "print type(mass)"
     ],
     "language": "python",
     "metadata": {},
     "outputs": [
      {
       "output_type": "stream",
       "stream": "stdout",
       "text": [
        "<type 'float'>\n"
       ]
      }
     ],
     "prompt_number": 35
    },
    {
     "cell_type": "code",
     "collapsed": false,
     "input": [
      "print type(data)"
     ],
     "language": "python",
     "metadata": {},
     "outputs": [
      {
       "output_type": "stream",
       "stream": "stdout",
       "text": [
        "<type 'numpy.ndarray'>\n"
       ]
      }
     ],
     "prompt_number": 31
    },
    {
     "cell_type": "code",
     "collapsed": false,
     "input": [
      "print data.shape"
     ],
     "language": "python",
     "metadata": {},
     "outputs": [
      {
       "output_type": "stream",
       "stream": "stdout",
       "text": [
        "(60, 40)\n"
       ]
      }
     ],
     "prompt_number": 32
    },
    {
     "cell_type": "code",
     "collapsed": false,
     "input": [
      "mass\n",
      "mass = mass * 2\n",
      "print mass"
     ],
     "language": "python",
     "metadata": {},
     "outputs": [
      {
       "output_type": "stream",
       "stream": "stdout",
       "text": [
        "190.0\n"
       ]
      }
     ],
     "prompt_number": 33
    },
    {
     "cell_type": "code",
     "collapsed": false,
     "input": [
      "mass"
     ],
     "language": "python",
     "metadata": {},
     "outputs": [
      {
       "metadata": {},
       "output_type": "pyout",
       "prompt_number": 34,
       "text": [
        "190.0"
       ]
      }
     ],
     "prompt_number": 34
    },
    {
     "cell_type": "code",
     "collapsed": false,
     "input": [
      "data"
     ],
     "language": "python",
     "metadata": {},
     "outputs": [
      {
       "metadata": {},
       "output_type": "pyout",
       "prompt_number": 36,
       "text": [
        "array([[ 0.,  0.,  1., ...,  3.,  0.,  0.],\n",
        "       [ 0.,  1.,  2., ...,  1.,  0.,  1.],\n",
        "       [ 0.,  1.,  1., ...,  2.,  1.,  1.],\n",
        "       ..., \n",
        "       [ 0.,  1.,  1., ...,  1.,  1.,  1.],\n",
        "       [ 0.,  0.,  0., ...,  0.,  2.,  0.],\n",
        "       [ 0.,  0.,  1., ...,  1.,  1.,  0.]])"
       ]
      }
     ],
     "prompt_number": 36
    },
    {
     "cell_type": "code",
     "collapsed": false,
     "input": [
      "print data[0,0]"
     ],
     "language": "python",
     "metadata": {},
     "outputs": [
      {
       "output_type": "stream",
       "stream": "stdout",
       "text": [
        "0.0\n"
       ]
      }
     ],
     "prompt_number": 37
    },
    {
     "cell_type": "code",
     "collapsed": false,
     "input": [
      "print data.shape"
     ],
     "language": "python",
     "metadata": {},
     "outputs": [
      {
       "output_type": "stream",
       "stream": "stdout",
       "text": [
        "(60, 40)\n"
       ]
      }
     ],
     "prompt_number": 40
    },
    {
     "cell_type": "code",
     "collapsed": false,
     "input": [
      "print data[0,39]"
     ],
     "language": "python",
     "metadata": {},
     "outputs": [
      {
       "output_type": "stream",
       "stream": "stdout",
       "text": [
        "0.0\n"
       ]
      }
     ],
     "prompt_number": 41
    },
    {
     "cell_type": "code",
     "collapsed": false,
     "input": [
      "print data[0]"
     ],
     "language": "python",
     "metadata": {},
     "outputs": [
      {
       "output_type": "stream",
       "stream": "stdout",
       "text": [
        "[  0.   0.   1.   3.   1.   2.   4.   7.   8.   3.   3.   3.  10.   5.   7.\n",
        "   4.   7.   7.  12.  18.   6.  13.  11.  11.   7.   7.   4.   6.   8.   8.\n",
        "   4.   4.   5.   7.   3.   4.   2.   3.   0.   0.]\n"
       ]
      }
     ],
     "prompt_number": 42
    },
    {
     "cell_type": "code",
     "collapsed": false,
     "input": [
      "print data[5:10]"
     ],
     "language": "python",
     "metadata": {},
     "outputs": [
      {
       "output_type": "stream",
       "stream": "stdout",
       "text": [
        "[[  0.   0.   1.   2.   2.   4.   2.   1.   6.   4.   7.   6.   6.   9.\n",
        "    9.  15.   4.  16.  18.  12.  12.   5.  18.   9.   5.   3.  10.   3.\n",
        "   12.   7.   8.   4.   7.   3.   5.   4.   4.   3.   2.   1.]\n",
        " [  0.   0.   2.   2.   4.   2.   2.   5.   5.   8.   6.   5.  11.   9.\n",
        "    4.  13.   5.  12.  10.   6.   9.  17.  15.   8.   9.   3.  13.   7.\n",
        "    8.   2.   8.   8.   4.   2.   3.   5.   4.   1.   1.   1.]\n",
        " [  0.   0.   1.   2.   3.   1.   2.   3.   5.   3.   7.   8.   8.   5.\n",
        "   10.   9.  15.  11.  18.  19.  20.   8.   5.  13.  15.  10.   6.  10.\n",
        "    6.   7.   4.   9.   3.   5.   2.   5.   3.   2.   2.   1.]\n",
        " [  0.   0.   0.   3.   1.   5.   6.   5.   5.   8.   2.   4.  11.  12.\n",
        "   10.  11.   9.  10.  17.  11.   6.  16.  12.   6.   8.  14.   6.  13.\n",
        "   10.  11.   4.   6.   4.   7.   6.   3.   2.   1.   0.   0.]\n",
        " [  0.   1.   1.   2.   1.   3.   5.   3.   5.   8.   6.   8.  12.   5.\n",
        "   13.   6.  13.   8.  16.   8.  18.  15.  16.  14.  12.   7.   3.   8.\n",
        "    9.  11.   2.   5.   4.   5.   1.   4.   1.   2.   0.   0.]]\n"
       ]
      }
     ],
     "prompt_number": 43
    },
    {
     "cell_type": "code",
     "collapsed": false,
     "input": [
      "print data[5:10, 0:9]"
     ],
     "language": "python",
     "metadata": {},
     "outputs": [
      {
       "output_type": "stream",
       "stream": "stdout",
       "text": [
        "[[ 0.  0.  1.  2.  2.  4.  2.  1.  6.]\n",
        " [ 0.  0.  2.  2.  4.  2.  2.  5.  5.]\n",
        " [ 0.  0.  1.  2.  3.  1.  2.  3.  5.]\n",
        " [ 0.  0.  0.  3.  1.  5.  6.  5.  5.]\n",
        " [ 0.  1.  1.  2.  1.  3.  5.  3.  5.]]\n"
       ]
      }
     ],
     "prompt_number": 44
    },
    {
     "cell_type": "code",
     "collapsed": false,
     "input": [
      "print data[1, :]"
     ],
     "language": "python",
     "metadata": {},
     "outputs": [
      {
       "output_type": "stream",
       "stream": "stdout",
       "text": [
        "[  0.   1.   2.   1.   2.   1.   3.   2.   2.   6.  10.  11.   5.   9.   4.\n",
        "   4.   7.  16.   8.   6.  18.   4.  12.   5.  12.   7.  11.   5.  11.   3.\n",
        "   3.   5.   4.   4.   5.   5.   1.   1.   0.   1.]\n"
       ]
      }
     ],
     "prompt_number": 45
    },
    {
     "cell_type": "code",
     "collapsed": false,
     "input": [
      "small = data[5:10, 0:9]"
     ],
     "language": "python",
     "metadata": {},
     "outputs": [],
     "prompt_number": 46
    },
    {
     "cell_type": "code",
     "collapsed": false,
     "input": [
      "print small"
     ],
     "language": "python",
     "metadata": {},
     "outputs": [
      {
       "output_type": "stream",
       "stream": "stdout",
       "text": [
        "[[ 0.  0.  1.  2.  2.  4.  2.  1.  6.]\n",
        " [ 0.  0.  2.  2.  4.  2.  2.  5.  5.]\n",
        " [ 0.  0.  1.  2.  3.  1.  2.  3.  5.]\n",
        " [ 0.  0.  0.  3.  1.  5.  6.  5.  5.]\n",
        " [ 0.  1.  1.  2.  1.  3.  5.  3.  5.]]\n"
       ]
      }
     ],
     "prompt_number": 47
    },
    {
     "cell_type": "code",
     "collapsed": false,
     "input": [
      "small.mean()"
     ],
     "language": "python",
     "metadata": {},
     "outputs": [
      {
       "metadata": {},
       "output_type": "pyout",
       "prompt_number": 48,
       "text": [
        "2.2888888888888888"
       ]
      }
     ],
     "prompt_number": 48
    },
    {
     "cell_type": "code",
     "collapsed": false,
     "input": [
      "small[1].mean()"
     ],
     "language": "python",
     "metadata": {},
     "outputs": [
      {
       "metadata": {},
       "output_type": "pyout",
       "prompt_number": 49,
       "text": [
        "2.4444444444444446"
       ]
      }
     ],
     "prompt_number": 49
    },
    {
     "cell_type": "code",
     "collapsed": false,
     "input": [
      "small[2].mean()"
     ],
     "language": "python",
     "metadata": {},
     "outputs": [
      {
       "metadata": {},
       "output_type": "pyout",
       "prompt_number": 50,
       "text": [
        "1.8888888888888888"
       ]
      }
     ],
     "prompt_number": 50
    },
    {
     "cell_type": "code",
     "collapsed": false,
     "input": [
      "small[0].mean()"
     ],
     "language": "python",
     "metadata": {},
     "outputs": [
      {
       "metadata": {},
       "output_type": "pyout",
       "prompt_number": 51,
       "text": [
        "2.0"
       ]
      }
     ],
     "prompt_number": 51
    },
    {
     "cell_type": "code",
     "collapsed": false,
     "input": [
      "small[0].max()"
     ],
     "language": "python",
     "metadata": {},
     "outputs": [
      {
       "metadata": {},
       "output_type": "pyout",
       "prompt_number": 52,
       "text": [
        "6.0"
       ]
      }
     ],
     "prompt_number": 52
    },
    {
     "cell_type": "code",
     "collapsed": false,
     "input": [
      "small[0]"
     ],
     "language": "python",
     "metadata": {},
     "outputs": [
      {
       "metadata": {},
       "output_type": "pyout",
       "prompt_number": 53,
       "text": [
        "array([ 0.,  0.,  1.,  2.,  2.,  4.,  2.,  1.,  6.])"
       ]
      }
     ],
     "prompt_number": 53
    },
    {
     "cell_type": "code",
     "collapsed": false,
     "input": [
      "small[0].min()"
     ],
     "language": "python",
     "metadata": {},
     "outputs": [
      {
       "metadata": {},
       "output_type": "pyout",
       "prompt_number": 54,
       "text": [
        "0.0"
       ]
      }
     ],
     "prompt_number": 54
    },
    {
     "cell_type": "code",
     "collapsed": false,
     "input": [
      "min(0,3,4,5)"
     ],
     "language": "python",
     "metadata": {},
     "outputs": [
      {
       "metadata": {},
       "output_type": "pyout",
       "prompt_number": 55,
       "text": [
        "0"
       ]
      }
     ],
     "prompt_number": 55
    },
    {
     "cell_type": "code",
     "collapsed": false,
     "input": [
      "min(small[0])"
     ],
     "language": "python",
     "metadata": {},
     "outputs": [
      {
       "metadata": {},
       "output_type": "pyout",
       "prompt_number": 56,
       "text": [
        "0.0"
       ]
      }
     ],
     "prompt_number": 56
    },
    {
     "cell_type": "code",
     "collapsed": false,
     "input": [
      "small[:,1]"
     ],
     "language": "python",
     "metadata": {},
     "outputs": [
      {
       "metadata": {},
       "output_type": "pyout",
       "prompt_number": 57,
       "text": [
        "array([ 0.,  0.,  0.,  0.,  1.])"
       ]
      }
     ],
     "prompt_number": 57
    },
    {
     "cell_type": "code",
     "collapsed": false,
     "input": [
      "small[:,1].mean()"
     ],
     "language": "python",
     "metadata": {},
     "outputs": [
      {
       "metadata": {},
       "output_type": "pyout",
       "prompt_number": 58,
       "text": [
        "0.20000000000000001"
       ]
      }
     ],
     "prompt_number": 58
    },
    {
     "cell_type": "code",
     "collapsed": false,
     "input": [
      "help(numpy.mean)"
     ],
     "language": "python",
     "metadata": {},
     "outputs": [
      {
       "output_type": "stream",
       "stream": "stdout",
       "text": [
        "Help on function mean in module numpy.core.fromnumeric:\n",
        "\n",
        "mean(a, axis=None, dtype=None, out=None)\n",
        "    Compute the arithmetic mean along the specified axis.\n",
        "    \n",
        "    Returns the average of the array elements.  The average is taken over\n",
        "    the flattened array by default, otherwise over the specified axis.\n",
        "    `float64` intermediate and return values are used for integer inputs.\n",
        "    \n",
        "    Parameters\n",
        "    ----------\n",
        "    a : array_like\n",
        "        Array containing numbers whose mean is desired. If `a` is not an\n",
        "        array, a conversion is attempted.\n",
        "    axis : int, optional\n",
        "        Axis along which the means are computed. The default is to compute\n",
        "        the mean of the flattened array.\n",
        "    dtype : data-type, optional\n",
        "        Type to use in computing the mean.  For integer inputs, the default\n",
        "        is `float64`; for floating point inputs, it is the same as the\n",
        "        input dtype.\n",
        "    out : ndarray, optional\n",
        "        Alternate output array in which to place the result.  The default\n",
        "        is ``None``; if provided, it must have the same shape as the\n",
        "        expected output, but the type will be cast if necessary.\n",
        "        See `doc.ufuncs` for details.\n",
        "    \n",
        "    Returns\n",
        "    -------\n",
        "    m : ndarray, see dtype parameter above\n",
        "        If `out=None`, returns a new array containing the mean values,\n",
        "        otherwise a reference to the output array is returned.\n",
        "    \n",
        "    See Also\n",
        "    --------\n",
        "    average : Weighted average\n",
        "    \n",
        "    Notes\n",
        "    -----\n",
        "    The arithmetic mean is the sum of the elements along the axis divided\n",
        "    by the number of elements.\n",
        "    \n",
        "    Note that for floating-point input, the mean is computed using the\n",
        "    same precision the input has.  Depending on the input data, this can\n",
        "    cause the results to be inaccurate, especially for `float32` (see\n",
        "    example below).  Specifying a higher-precision accumulator using the\n",
        "    `dtype` keyword can alleviate this issue.\n",
        "    \n",
        "    Examples\n",
        "    --------\n",
        "    >>> a = np.array([[1, 2], [3, 4]])\n",
        "    >>> np.mean(a)\n",
        "    2.5\n",
        "    >>> np.mean(a, axis=0)\n",
        "    array([ 2.,  3.])\n",
        "    >>> np.mean(a, axis=1)\n",
        "    array([ 1.5,  3.5])\n",
        "    \n",
        "    In single precision, `mean` can be inaccurate:\n",
        "    \n",
        "    >>> a = np.zeros((2, 512*512), dtype=np.float32)\n",
        "    >>> a[0, :] = 1.0\n",
        "    >>> a[1, :] = 0.1\n",
        "    >>> np.mean(a)\n",
        "    0.546875\n",
        "    \n",
        "    Computing the mean in float64 is more accurate:\n",
        "    \n",
        "    >>> np.mean(a, dtype=np.float64)\n",
        "    0.55000000074505806\n",
        "\n"
       ]
      }
     ],
     "prompt_number": 61
    },
    {
     "cell_type": "code",
     "collapsed": false,
     "input": [
      "small.exp(2)"
     ],
     "language": "python",
     "metadata": {},
     "outputs": [
      {
       "ename": "AttributeError",
       "evalue": "'numpy.ndarray' object has no attribute 'exp'",
       "output_type": "pyerr",
       "traceback": [
        "\u001b[0;31m---------------------------------------------------------------------------\u001b[0m\n\u001b[0;31mAttributeError\u001b[0m                            Traceback (most recent call last)",
        "\u001b[0;32m<ipython-input-62-fd4a7de190f6>\u001b[0m in \u001b[0;36m<module>\u001b[0;34m()\u001b[0m\n\u001b[0;32m----> 1\u001b[0;31m \u001b[0msmall\u001b[0m\u001b[0;34m.\u001b[0m\u001b[0mexp\u001b[0m\u001b[0;34m(\u001b[0m\u001b[0;36m2\u001b[0m\u001b[0;34m)\u001b[0m\u001b[0;34m\u001b[0m\u001b[0m\n\u001b[0m",
        "\u001b[0;31mAttributeError\u001b[0m: 'numpy.ndarray' object has no attribute 'exp'"
       ]
      }
     ],
     "prompt_number": 62
    },
    {
     "cell_type": "code",
     "collapsed": false,
     "input": [
      "small.pow(2)"
     ],
     "language": "python",
     "metadata": {},
     "outputs": [
      {
       "ename": "AttributeError",
       "evalue": "'numpy.ndarray' object has no attribute 'pow'",
       "output_type": "pyerr",
       "traceback": [
        "\u001b[0;31m---------------------------------------------------------------------------\u001b[0m\n\u001b[0;31mAttributeError\u001b[0m                            Traceback (most recent call last)",
        "\u001b[0;32m<ipython-input-63-7c4e21acf77b>\u001b[0m in \u001b[0;36m<module>\u001b[0;34m()\u001b[0m\n\u001b[0;32m----> 1\u001b[0;31m \u001b[0msmall\u001b[0m\u001b[0;34m.\u001b[0m\u001b[0mpow\u001b[0m\u001b[0;34m(\u001b[0m\u001b[0;36m2\u001b[0m\u001b[0;34m)\u001b[0m\u001b[0;34m\u001b[0m\u001b[0m\n\u001b[0m",
        "\u001b[0;31mAttributeError\u001b[0m: 'numpy.ndarray' object has no attribute 'pow'"
       ]
      }
     ],
     "prompt_number": 63
    },
    {
     "cell_type": "code",
     "collapsed": false,
     "input": [
      "help(numpy.exp)"
     ],
     "language": "python",
     "metadata": {},
     "outputs": [
      {
       "output_type": "stream",
       "stream": "stdout",
       "text": [
        "Help on ufunc object:\n",
        "\n",
        "exp = class ufunc(__builtin__.object)\n",
        " |  Functions that operate element by element on whole arrays.\n",
        " |  \n",
        " |  To see the documentation for a specific ufunc, use np.info().  For\n",
        " |  example, np.info(np.sin).  Because ufuncs are written in C\n",
        " |  (for speed) and linked into Python with NumPy's ufunc facility,\n",
        " |  Python's help() function finds this page whenever help() is called\n",
        " |  on a ufunc.\n",
        " |  \n",
        " |  A detailed explanation of ufuncs can be found in the \"ufuncs.rst\"\n",
        " |  file in the NumPy reference guide.\n",
        " |  \n",
        " |  Unary ufuncs:\n",
        " |  =============\n",
        " |  \n",
        " |  op(X, out=None)\n",
        " |  Apply op to X elementwise\n",
        " |  \n",
        " |  Parameters\n",
        " |  ----------\n",
        " |  X : array_like\n",
        " |      Input array.\n",
        " |  out : array_like\n",
        " |      An array to store the output. Must be the same shape as `X`.\n",
        " |  \n",
        " |  Returns\n",
        " |  -------\n",
        " |  r : array_like\n",
        " |      `r` will have the same shape as `X`; if out is provided, `r`\n",
        " |      will be equal to out.\n",
        " |  \n",
        " |  Binary ufuncs:\n",
        " |  ==============\n",
        " |  \n",
        " |  op(X, Y, out=None)\n",
        " |  Apply `op` to `X` and `Y` elementwise. May \"broadcast\" to make\n",
        " |  the shapes of `X` and `Y` congruent.\n",
        " |  \n",
        " |  The broadcasting rules are:\n",
        " |  \n",
        " |  * Dimensions of length 1 may be prepended to either array.\n",
        " |  * Arrays may be repeated along dimensions of length 1.\n",
        " |  \n",
        " |  Parameters\n",
        " |  ----------\n",
        " |  X : array_like\n",
        " |      First input array.\n",
        " |  Y : array_like\n",
        " |      Second input array.\n",
        " |  out : array_like\n",
        " |      An array to store the output. Must be the same shape as the\n",
        " |      output would have.\n",
        " |  \n",
        " |  Returns\n",
        " |  -------\n",
        " |  r : array_like\n",
        " |      The return value; if out is provided, `r` will be equal to out.\n",
        " |  \n",
        " |  Methods defined here:\n",
        " |  \n",
        " |  __call__(...)\n",
        " |      x.__call__(...) <==> x(...)\n",
        " |  \n",
        " |  __repr__(...)\n",
        " |      x.__repr__() <==> repr(x)\n",
        " |  \n",
        " |  __str__(...)\n",
        " |      x.__str__() <==> str(x)\n",
        " |  \n",
        " |  accumulate(...)\n",
        " |      accumulate(array, axis=0, dtype=None, out=None)\n",
        " |      \n",
        " |      Accumulate the result of applying the operator to all elements.\n",
        " |      \n",
        " |      For a one-dimensional array, accumulate produces results equivalent to::\n",
        " |      \n",
        " |        r = np.empty(len(A))\n",
        " |        t = op.identity        # op = the ufunc being applied to A's  elements\n",
        " |        for i in xrange(len(A)):\n",
        " |            t = op(t, A[i])\n",
        " |            r[i] = t\n",
        " |        return r\n",
        " |      \n",
        " |      For example, add.accumulate() is equivalent to np.cumsum().\n",
        " |      \n",
        " |      For a multi-dimensional array, accumulate is applied along only one\n",
        " |      axis (axis zero by default; see Examples below) so repeated use is\n",
        " |      necessary if one wants to accumulate over multiple axes.\n",
        " |      \n",
        " |      Parameters\n",
        " |      ----------\n",
        " |      array : array_like\n",
        " |          The array to act on.\n",
        " |      axis : int, optional\n",
        " |          The axis along which to apply the accumulation; default is zero.\n",
        " |      dtype : data-type code, optional\n",
        " |          The data-type used to represent the intermediate results. Defaults\n",
        " |          to the data-type of the output array if such is provided, or the\n",
        " |          the data-type of the input array if no output array is provided.\n",
        " |      out : ndarray, optional\n",
        " |          A location into which the result is stored. If not provided a\n",
        " |          freshly-allocated array is returned.\n",
        " |      \n",
        " |      Returns\n",
        " |      -------\n",
        " |      r : ndarray\n",
        " |          The accumulated values. If `out` was supplied, `r` is a reference to\n",
        " |          `out`.\n",
        " |      \n",
        " |      Examples\n",
        " |      --------\n",
        " |      1-D array examples:\n",
        " |      \n",
        " |      >>> np.add.accumulate([2, 3, 5])\n",
        " |      array([ 2,  5, 10])\n",
        " |      >>> np.multiply.accumulate([2, 3, 5])\n",
        " |      array([ 2,  6, 30])\n",
        " |      \n",
        " |      2-D array examples:\n",
        " |      \n",
        " |      >>> I = np.eye(2)\n",
        " |      >>> I\n",
        " |      array([[ 1.,  0.],\n",
        " |             [ 0.,  1.]])\n",
        " |      \n",
        " |      Accumulate along axis 0 (rows), down columns:\n",
        " |      \n",
        " |      >>> np.add.accumulate(I, 0)\n",
        " |      array([[ 1.,  0.],\n",
        " |             [ 1.,  1.]])\n",
        " |      >>> np.add.accumulate(I) # no axis specified = axis zero\n",
        " |      array([[ 1.,  0.],\n",
        " |             [ 1.,  1.]])\n",
        " |      \n",
        " |      Accumulate along axis 1 (columns), through rows:\n",
        " |      \n",
        " |      >>> np.add.accumulate(I, 1)\n",
        " |      array([[ 1.,  1.],\n",
        " |             [ 0.,  1.]])\n",
        " |  \n",
        " |  outer(...)\n",
        " |      outer(A, B)\n",
        " |      \n",
        " |      Apply the ufunc `op` to all pairs (a, b) with a in `A` and b in `B`.\n",
        " |      \n",
        " |      Let ``M = A.ndim``, ``N = B.ndim``. Then the result, `C`, of\n",
        " |      ``op.outer(A, B)`` is an array of dimension M + N such that:\n",
        " |      \n",
        " |      .. math:: C[i_0, ..., i_{M-1}, j_0, ..., j_{N-1}] =\n",
        " |         op(A[i_0, ..., i_{M-1}], B[j_0, ..., j_{N-1}])\n",
        " |      \n",
        " |      For `A` and `B` one-dimensional, this is equivalent to::\n",
        " |      \n",
        " |        r = empty(len(A),len(B))\n",
        " |        for i in xrange(len(A)):\n",
        " |            for j in xrange(len(B)):\n",
        " |                r[i,j] = op(A[i], B[j]) # op = ufunc in question\n",
        " |      \n",
        " |      Parameters\n",
        " |      ----------\n",
        " |      A : array_like\n",
        " |          First array\n",
        " |      B : array_like\n",
        " |          Second array\n",
        " |      \n",
        " |      Returns\n",
        " |      -------\n",
        " |      r : ndarray\n",
        " |          Output array\n",
        " |      \n",
        " |      See Also\n",
        " |      --------\n",
        " |      numpy.outer\n",
        " |      \n",
        " |      Examples\n",
        " |      --------\n",
        " |      >>> np.multiply.outer([1, 2, 3], [4, 5, 6])\n",
        " |      array([[ 4,  5,  6],\n",
        " |             [ 8, 10, 12],\n",
        " |             [12, 15, 18]])\n",
        " |      \n",
        " |      A multi-dimensional example:\n",
        " |      \n",
        " |      >>> A = np.array([[1, 2, 3], [4, 5, 6]])\n",
        " |      >>> A.shape\n",
        " |      (2, 3)\n",
        " |      >>> B = np.array([[1, 2, 3, 4]])\n",
        " |      >>> B.shape\n",
        " |      (1, 4)\n",
        " |      >>> C = np.multiply.outer(A, B)\n",
        " |      >>> C.shape; C\n",
        " |      (2, 3, 1, 4)\n",
        " |      array([[[[ 1,  2,  3,  4]],\n",
        " |              [[ 2,  4,  6,  8]],\n",
        " |              [[ 3,  6,  9, 12]]],\n",
        " |             [[[ 4,  8, 12, 16]],\n",
        " |              [[ 5, 10, 15, 20]],\n",
        " |              [[ 6, 12, 18, 24]]]])\n",
        " |  \n",
        " |  reduce(...)\n",
        " |      reduce(a, axis=0, dtype=None, out=None)\n",
        " |      \n",
        " |      Reduces `a`'s dimension by one, by applying ufunc along one axis.\n",
        " |      \n",
        " |      Let :math:`a.shape = (N_0, ..., N_i, ..., N_{M-1})`.  Then\n",
        " |      :math:`ufunc.reduce(a, axis=i)[k_0, ..,k_{i-1}, k_{i+1}, .., k_{M-1}]` =\n",
        " |      the result of iterating `j` over :math:`range(N_i)`, cumulatively applying\n",
        " |      ufunc to each :math:`a[k_0, ..,k_{i-1}, j, k_{i+1}, .., k_{M-1}]`.\n",
        " |      For a one-dimensional array, reduce produces results equivalent to:\n",
        " |      ::\n",
        " |      \n",
        " |       r = op.identity # op = ufunc\n",
        " |       for i in xrange(len(A)):\n",
        " |         r = op(r, A[i])\n",
        " |       return r\n",
        " |      \n",
        " |      For example, add.reduce() is equivalent to sum().\n",
        " |      \n",
        " |      Parameters\n",
        " |      ----------\n",
        " |      a : array_like\n",
        " |          The array to act on.\n",
        " |      axis : int, optional\n",
        " |          The axis along which to apply the reduction.\n",
        " |      dtype : data-type code, optional\n",
        " |          The type used to represent the intermediate results. Defaults\n",
        " |          to the data-type of the output array if this is provided, or\n",
        " |          the data-type of the input array if no output array is provided.\n",
        " |      out : ndarray, optional\n",
        " |          A location into which the result is stored. If not provided, a\n",
        " |          freshly-allocated array is returned.\n",
        " |      \n",
        " |      Returns\n",
        " |      -------\n",
        " |      r : ndarray\n",
        " |          The reduced array. If `out` was supplied, `r` is a reference to it.\n",
        " |      \n",
        " |      Examples\n",
        " |      --------\n",
        " |      >>> np.multiply.reduce([2,3,5])\n",
        " |      30\n",
        " |      \n",
        " |      A multi-dimensional array example:\n",
        " |      \n",
        " |      >>> X = np.arange(8).reshape((2,2,2))\n",
        " |      >>> X\n",
        " |      array([[[0, 1],\n",
        " |              [2, 3]],\n",
        " |             [[4, 5],\n",
        " |              [6, 7]]])\n",
        " |      >>> np.add.reduce(X, 0)\n",
        " |      array([[ 4,  6],\n",
        " |             [ 8, 10]])\n",
        " |      >>> np.add.reduce(X) # confirm: default axis value is 0\n",
        " |      array([[ 4,  6],\n",
        " |             [ 8, 10]])\n",
        " |      >>> np.add.reduce(X, 1)\n",
        " |      array([[ 2,  4],\n",
        " |             [10, 12]])\n",
        " |      >>> np.add.reduce(X, 2)\n",
        " |      array([[ 1,  5],\n",
        " |             [ 9, 13]])\n",
        " |  \n",
        " |  reduceat(...)\n",
        " |      reduceat(a, indices, axis=0, dtype=None, out=None)\n",
        " |      \n",
        " |      Performs a (local) reduce with specified slices over a single axis.\n",
        " |      \n",
        " |      For i in ``range(len(indices))``, `reduceat` computes\n",
        " |      ``ufunc.reduce(a[indices[i]:indices[i+1]])``, which becomes the i-th\n",
        " |      generalized \"row\" parallel to `axis` in the final result (i.e., in a\n",
        " |      2-D array, for example, if `axis = 0`, it becomes the i-th row, but if\n",
        " |      `axis = 1`, it becomes the i-th column).  There are two exceptions to this:\n",
        " |      \n",
        " |        * when ``i = len(indices) - 1`` (so for the last index),\n",
        " |          ``indices[i+1] = a.shape[axis]``.\n",
        " |        * if ``indices[i] >= indices[i + 1]``, the i-th generalized \"row\" is\n",
        " |          simply ``a[indices[i]]``.\n",
        " |      \n",
        " |      The shape of the output depends on the size of `indices`, and may be\n",
        " |      larger than `a` (this happens if ``len(indices) > a.shape[axis]``).\n",
        " |      \n",
        " |      Parameters\n",
        " |      ----------\n",
        " |      a : array_like\n",
        " |          The array to act on.\n",
        " |      indices : array_like\n",
        " |          Paired indices, comma separated (not colon), specifying slices to\n",
        " |          reduce.\n",
        " |      axis : int, optional\n",
        " |          The axis along which to apply the reduceat.\n",
        " |      dtype : data-type code, optional\n",
        " |          The type used to represent the intermediate results. Defaults\n",
        " |          to the data type of the output array if this is provided, or\n",
        " |          the data type of the input array if no output array is provided.\n",
        " |      out : ndarray, optional\n",
        " |          A location into which the result is stored. If not provided a\n",
        " |          freshly-allocated array is returned.\n",
        " |      \n",
        " |      Returns\n",
        " |      -------\n",
        " |      r : ndarray\n",
        " |          The reduced values. If `out` was supplied, `r` is a reference to\n",
        " |          `out`.\n",
        " |      \n",
        " |      Notes\n",
        " |      -----\n",
        " |      A descriptive example:\n",
        " |      \n",
        " |      If `a` is 1-D, the function `ufunc.accumulate(a)` is the same as\n",
        " |      ``ufunc.reduceat(a, indices)[::2]`` where `indices` is\n",
        " |      ``range(len(array) - 1)`` with a zero placed\n",
        " |      in every other element:\n",
        " |      ``indices = zeros(2 * len(a) - 1)``, ``indices[1::2] = range(1, len(a))``.\n",
        " |      \n",
        " |      Don't be fooled by this attribute's name: `reduceat(a)` is not\n",
        " |      necessarily smaller than `a`.\n",
        " |      \n",
        " |      Examples\n",
        " |      --------\n",
        " |      To take the running sum of four successive values:\n",
        " |      \n",
        " |      >>> np.add.reduceat(np.arange(8),[0,4, 1,5, 2,6, 3,7])[::2]\n",
        " |      array([ 6, 10, 14, 18])\n",
        " |      \n",
        " |      A 2-D example:\n",
        " |      \n",
        " |      >>> x = np.linspace(0, 15, 16).reshape(4,4)\n",
        " |      >>> x\n",
        " |      array([[  0.,   1.,   2.,   3.],\n",
        " |             [  4.,   5.,   6.,   7.],\n",
        " |             [  8.,   9.,  10.,  11.],\n",
        " |             [ 12.,  13.,  14.,  15.]])\n",
        " |      \n",
        " |      ::\n",
        " |      \n",
        " |       # reduce such that the result has the following five rows:\n",
        " |       # [row1 + row2 + row3]\n",
        " |       # [row4]\n",
        " |       # [row2]\n",
        " |       # [row3]\n",
        " |       # [row1 + row2 + row3 + row4]\n",
        " |      \n",
        " |      >>> np.add.reduceat(x, [0, 3, 1, 2, 0])\n",
        " |      array([[ 12.,  15.,  18.,  21.],\n",
        " |             [ 12.,  13.,  14.,  15.],\n",
        " |             [  4.,   5.,   6.,   7.],\n",
        " |             [  8.,   9.,  10.,  11.],\n",
        " |             [ 24.,  28.,  32.,  36.]])\n",
        " |      \n",
        " |      ::\n",
        " |      \n",
        " |       # reduce such that result has the following two columns:\n",
        " |       # [col1 * col2 * col3, col4]\n",
        " |      \n",
        " |      >>> np.multiply.reduceat(x, [0, 3], 1)\n",
        " |      array([[    0.,     3.],\n",
        " |             [  120.,     7.],\n",
        " |             [  720.,    11.],\n",
        " |             [ 2184.,    15.]])\n",
        " |  \n",
        " |  ----------------------------------------------------------------------\n",
        " |  Data descriptors defined here:\n",
        " |  \n",
        " |  identity\n",
        " |      The identity value.\n",
        " |      \n",
        " |      Data attribute containing the identity element for the ufunc, if it has one.\n",
        " |      If it does not, the attribute value is None.\n",
        " |      \n",
        " |      Examples\n",
        " |      --------\n",
        " |      >>> np.add.identity\n",
        " |      0\n",
        " |      >>> np.multiply.identity\n",
        " |      1\n",
        " |      >>> np.power.identity\n",
        " |      1\n",
        " |      >>> print np.exp.identity\n",
        " |      None\n",
        " |  \n",
        " |  nargs\n",
        " |      The number of arguments.\n",
        " |      \n",
        " |      Data attribute containing the number of arguments the ufunc takes, including\n",
        " |      optional ones.\n",
        " |      \n",
        " |      Notes\n",
        " |      -----\n",
        " |      Typically this value will be one more than what you might expect because all\n",
        " |      ufuncs take  the optional \"out\" argument.\n",
        " |      \n",
        " |      Examples\n",
        " |      --------\n",
        " |      >>> np.add.nargs\n",
        " |      3\n",
        " |      >>> np.multiply.nargs\n",
        " |      3\n",
        " |      >>> np.power.nargs\n",
        " |      3\n",
        " |      >>> np.exp.nargs\n",
        " |      2\n",
        " |  \n",
        " |  nin\n",
        " |      The number of inputs.\n",
        " |      \n",
        " |      Data attribute containing the number of arguments the ufunc treats as input.\n",
        " |      \n",
        " |      Examples\n",
        " |      --------\n",
        " |      >>> np.add.nin\n",
        " |      2\n",
        " |      >>> np.multiply.nin\n",
        " |      2\n",
        " |      >>> np.power.nin\n",
        " |      2\n",
        " |      >>> np.exp.nin\n",
        " |      1\n",
        " |  \n",
        " |  nout\n",
        " |      The number of outputs.\n",
        " |      \n",
        " |      Data attribute containing the number of arguments the ufunc treats as output.\n",
        " |      \n",
        " |      Notes\n",
        " |      -----\n",
        " |      Since all ufuncs can take output arguments, this will always be (at least) 1.\n",
        " |      \n",
        " |      Examples\n",
        " |      --------\n",
        " |      >>> np.add.nout\n",
        " |      1\n",
        " |      >>> np.multiply.nout\n",
        " |      1\n",
        " |      >>> np.power.nout\n",
        " |      1\n",
        " |      >>> np.exp.nout\n",
        " |      1\n",
        " |  \n",
        " |  ntypes\n",
        " |      The number of types.\n",
        " |      \n",
        " |      The number of numerical NumPy types - of which there are 18 total - on which\n",
        " |      the ufunc can operate.\n",
        " |      \n",
        " |      See Also\n",
        " |      --------\n",
        " |      numpy.ufunc.types\n",
        " |      \n",
        " |      Examples\n",
        " |      --------\n",
        " |      >>> np.add.ntypes\n",
        " |      18\n",
        " |      >>> np.multiply.ntypes\n",
        " |      18\n",
        " |      >>> np.power.ntypes\n",
        " |      17\n",
        " |      >>> np.exp.ntypes\n",
        " |      7\n",
        " |      >>> np.remainder.ntypes\n",
        " |      14\n",
        " |  \n",
        " |  signature\n",
        " |  \n",
        " |  types\n",
        " |      Returns a list with types grouped input->output.\n",
        " |      \n",
        " |      Data attribute listing the data-type \"Domain-Range\" groupings the ufunc can\n",
        " |      deliver. The data-types are given using the character codes.\n",
        " |      \n",
        " |      See Also\n",
        " |      --------\n",
        " |      numpy.ufunc.ntypes\n",
        " |      \n",
        " |      Examples\n",
        " |      --------\n",
        " |      >>> np.add.types\n",
        " |      ['??->?', 'bb->b', 'BB->B', 'hh->h', 'HH->H', 'ii->i', 'II->I', 'll->l',\n",
        " |      'LL->L', 'qq->q', 'QQ->Q', 'ff->f', 'dd->d', 'gg->g', 'FF->F', 'DD->D',\n",
        " |      'GG->G', 'OO->O']\n",
        " |      \n",
        " |      >>> np.multiply.types\n",
        " |      ['??->?', 'bb->b', 'BB->B', 'hh->h', 'HH->H', 'ii->i', 'II->I', 'll->l',\n",
        " |      'LL->L', 'qq->q', 'QQ->Q', 'ff->f', 'dd->d', 'gg->g', 'FF->F', 'DD->D',\n",
        " |      'GG->G', 'OO->O']\n",
        " |      \n",
        " |      >>> np.power.types\n",
        " |      ['bb->b', 'BB->B', 'hh->h', 'HH->H', 'ii->i', 'II->I', 'll->l', 'LL->L',\n",
        " |      'qq->q', 'QQ->Q', 'ff->f', 'dd->d', 'gg->g', 'FF->F', 'DD->D', 'GG->G',\n",
        " |      'OO->O']\n",
        " |      \n",
        " |      >>> np.exp.types\n",
        " |      ['f->f', 'd->d', 'g->g', 'F->F', 'D->D', 'G->G', 'O->O']\n",
        " |      \n",
        " |      >>> np.remainder.types\n",
        " |      ['bb->b', 'BB->B', 'hh->h', 'HH->H', 'ii->i', 'II->I', 'll->l', 'LL->L',\n",
        " |      'qq->q', 'QQ->Q', 'ff->f', 'dd->d', 'gg->g', 'OO->O']\n",
        "\n"
       ]
      }
     ],
     "prompt_number": 64
    },
    {
     "cell_type": "code",
     "collapsed": false,
     "input": [
      "small ** 2"
     ],
     "language": "python",
     "metadata": {},
     "outputs": [
      {
       "metadata": {},
       "output_type": "pyout",
       "prompt_number": 66,
       "text": [
        "array([[  0.,   0.,   1.,   4.,   4.,  16.,   4.,   1.,  36.],\n",
        "       [  0.,   0.,   4.,   4.,  16.,   4.,   4.,  25.,  25.],\n",
        "       [  0.,   0.,   1.,   4.,   9.,   1.,   4.,   9.,  25.],\n",
        "       [  0.,   0.,   0.,   9.,   1.,  25.,  36.,  25.,  25.],\n",
        "       [  0.,   1.,   1.,   4.,   1.,   9.,  25.,   9.,  25.]])"
       ]
      }
     ],
     "prompt_number": 66
    },
    {
     "cell_type": "code",
     "collapsed": false,
     "input": [
      "small ** 5"
     ],
     "language": "python",
     "metadata": {},
     "outputs": [
      {
       "metadata": {},
       "output_type": "pyout",
       "prompt_number": 67,
       "text": [
        "array([[  0.00000000e+00,   0.00000000e+00,   1.00000000e+00,\n",
        "          3.20000000e+01,   3.20000000e+01,   1.02400000e+03,\n",
        "          3.20000000e+01,   1.00000000e+00,   7.77600000e+03],\n",
        "       [  0.00000000e+00,   0.00000000e+00,   3.20000000e+01,\n",
        "          3.20000000e+01,   1.02400000e+03,   3.20000000e+01,\n",
        "          3.20000000e+01,   3.12500000e+03,   3.12500000e+03],\n",
        "       [  0.00000000e+00,   0.00000000e+00,   1.00000000e+00,\n",
        "          3.20000000e+01,   2.43000000e+02,   1.00000000e+00,\n",
        "          3.20000000e+01,   2.43000000e+02,   3.12500000e+03],\n",
        "       [  0.00000000e+00,   0.00000000e+00,   0.00000000e+00,\n",
        "          2.43000000e+02,   1.00000000e+00,   3.12500000e+03,\n",
        "          7.77600000e+03,   3.12500000e+03,   3.12500000e+03],\n",
        "       [  0.00000000e+00,   1.00000000e+00,   1.00000000e+00,\n",
        "          3.20000000e+01,   1.00000000e+00,   2.43000000e+02,\n",
        "          3.12500000e+03,   2.43000000e+02,   3.12500000e+03]])"
       ]
      }
     ],
     "prompt_number": 67
    },
    {
     "cell_type": "code",
     "collapsed": false,
     "input": [
      "print mean"
     ],
     "language": "python",
     "metadata": {},
     "outputs": [
      {
       "ename": "NameError",
       "evalue": "name 'mean' is not defined",
       "output_type": "pyerr",
       "traceback": [
        "\u001b[0;31m---------------------------------------------------------------------------\u001b[0m\n\u001b[0;31mNameError\u001b[0m                                 Traceback (most recent call last)",
        "\u001b[0;32m<ipython-input-68-3541182a1ab2>\u001b[0m in \u001b[0;36m<module>\u001b[0;34m()\u001b[0m\n\u001b[0;32m----> 1\u001b[0;31m \u001b[0;32mprint\u001b[0m \u001b[0mmean\u001b[0m\u001b[0;34m\u001b[0m\u001b[0m\n\u001b[0m",
        "\u001b[0;31mNameError\u001b[0m: name 'mean' is not defined"
       ]
      }
     ],
     "prompt_number": 68
    },
    {
     "cell_type": "code",
     "collapsed": false,
     "input": [
      "print mass"
     ],
     "language": "python",
     "metadata": {},
     "outputs": [
      {
       "output_type": "stream",
       "stream": "stdout",
       "text": [
        "190.0\n"
       ]
      }
     ],
     "prompt_number": 69
    },
    {
     "cell_type": "code",
     "collapsed": false,
     "input": [
      "data.shape"
     ],
     "language": "python",
     "metadata": {},
     "outputs": [
      {
       "metadata": {},
       "output_type": "pyout",
       "prompt_number": 70,
       "text": [
        "(60, 40)"
       ]
      }
     ],
     "prompt_number": 70
    },
    {
     "cell_type": "code",
     "collapsed": false,
     "input": [
      "for row in small:\n",
      "    print row.mean()"
     ],
     "language": "python",
     "metadata": {},
     "outputs": [
      {
       "output_type": "stream",
       "stream": "stdout",
       "text": [
        "2.0\n",
        "2.44444444444\n",
        "1.88888888889\n",
        "2.77777777778\n",
        "2.33333333333\n"
       ]
      }
     ],
     "prompt_number": 71
    },
    {
     "cell_type": "code",
     "collapsed": false,
     "input": [],
     "language": "python",
     "metadata": {},
     "outputs": []
    }
   ],
   "metadata": {}
  }
 ]
}